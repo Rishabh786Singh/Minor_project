{
  "nbformat": 4,
  "nbformat_minor": 0,
  "metadata": {
    "colab": {
      "name": "Minor_Project.ipynb",
      "version": "0.3.2",
      "provenance": [],
      "collapsed_sections": [],
      "include_colab_link": true
    },
    "kernelspec": {
      "name": "python3",
      "display_name": "Python 3"
    },
    "accelerator": "GPU"
  },
  "cells": [
    {
      "cell_type": "markdown",
      "metadata": {
        "id": "view-in-github",
        "colab_type": "text"
      },
      "source": [
        "<a href=\"https://colab.research.google.com/github/Rishabh786Singh/Minor_project/blob/master/Minor_Project.ipynb\" target=\"_parent\"><img src=\"https://colab.research.google.com/assets/colab-badge.svg\" alt=\"Open In Colab\"/></a>"
      ]
    },
    {
      "cell_type": "code",
      "metadata": {
        "id": "0WsfExvMEWcL",
        "colab_type": "code",
        "outputId": "8992992c-67d8-43d0-ab7a-c3d04661a018",
        "colab": {
          "base_uri": "https://localhost:8080/",
          "height": 122
        }
      },
      "source": [
        "from google.colab import drive\n",
        "drive.mount('/content/drive')"
      ],
      "execution_count": 0,
      "outputs": [
        {
          "output_type": "stream",
          "text": [
            "Go to this URL in a browser: https://accounts.google.com/o/oauth2/auth?client_id=947318989803-6bn6qk8qdgf4n4g3pfee6491hc0brc4i.apps.googleusercontent.com&redirect_uri=urn%3Aietf%3Awg%3Aoauth%3A2.0%3Aoob&scope=email%20https%3A%2F%2Fwww.googleapis.com%2Fauth%2Fdocs.test%20https%3A%2F%2Fwww.googleapis.com%2Fauth%2Fdrive%20https%3A%2F%2Fwww.googleapis.com%2Fauth%2Fdrive.photos.readonly%20https%3A%2F%2Fwww.googleapis.com%2Fauth%2Fpeopleapi.readonly&response_type=code\n",
            "\n",
            "Enter your authorization code:\n",
            "··········\n",
            "Mounted at /content/drive\n"
          ],
          "name": "stdout"
        }
      ]
    },
    {
      "cell_type": "code",
      "metadata": {
        "id": "AcxbWme1FR2O",
        "colab_type": "code",
        "colab": {}
      },
      "source": [
        "path=\"/content/drive/My Drive/Project/Data.xlsx\""
      ],
      "execution_count": 0,
      "outputs": []
    },
    {
      "cell_type": "code",
      "metadata": {
        "id": "TdWZr6BeF7Bn",
        "colab_type": "code",
        "colab": {}
      },
      "source": [
        "import pandas as pd\n",
        "import numpy as np\n",
        "import matplotlib.pyplot as plt\n",
        "from sklearn.model_selection import train_test_split\n",
        "from keras.layers import Dense, Dropout\n",
        "from keras.models import Sequential\n",
        "%matplotlib inline"
      ],
      "execution_count": 0,
      "outputs": []
    },
    {
      "cell_type": "code",
      "metadata": {
        "id": "9bknK53AGBlu",
        "colab_type": "code",
        "colab": {}
      },
      "source": [
        "\n",
        "data=pd.read_excel(path)"
      ],
      "execution_count": 0,
      "outputs": []
    },
    {
      "cell_type": "code",
      "metadata": {
        "id": "X5skrqECGFt7",
        "colab_type": "code",
        "outputId": "1df08ecf-5183-4fd7-aa40-d16e07d5b11c",
        "colab": {
          "base_uri": "https://localhost:8080/",
          "height": 297
        }
      },
      "source": [
        "data.describe()"
      ],
      "execution_count": 0,
      "outputs": [
        {
          "output_type": "execute_result",
          "data": {
            "text/html": [
              "<div>\n",
              "<style scoped>\n",
              "    .dataframe tbody tr th:only-of-type {\n",
              "        vertical-align: middle;\n",
              "    }\n",
              "\n",
              "    .dataframe tbody tr th {\n",
              "        vertical-align: top;\n",
              "    }\n",
              "\n",
              "    .dataframe thead th {\n",
              "        text-align: right;\n",
              "    }\n",
              "</style>\n",
              "<table border=\"1\" class=\"dataframe\">\n",
              "  <thead>\n",
              "    <tr style=\"text-align: right;\">\n",
              "      <th></th>\n",
              "      <th>0</th>\n",
              "      <th>1</th>\n",
              "      <th>2</th>\n",
              "      <th>3</th>\n",
              "      <th>4</th>\n",
              "      <th>5</th>\n",
              "      <th>6</th>\n",
              "      <th>Target</th>\n",
              "    </tr>\n",
              "  </thead>\n",
              "  <tbody>\n",
              "    <tr>\n",
              "      <th>count</th>\n",
              "      <td>11738.000000</td>\n",
              "      <td>11730.000000</td>\n",
              "      <td>11660.000000</td>\n",
              "      <td>11620.000000</td>\n",
              "      <td>11436.000000</td>\n",
              "      <td>10215.000000</td>\n",
              "      <td>9935.000000</td>\n",
              "      <td>11744.000000</td>\n",
              "    </tr>\n",
              "    <tr>\n",
              "      <th>mean</th>\n",
              "      <td>107.774664</td>\n",
              "      <td>57.797854</td>\n",
              "      <td>182.221356</td>\n",
              "      <td>165.344949</td>\n",
              "      <td>62.304703</td>\n",
              "      <td>110.388363</td>\n",
              "      <td>109.660844</td>\n",
              "      <td>1.979053</td>\n",
              "    </tr>\n",
              "    <tr>\n",
              "      <th>std</th>\n",
              "      <td>19.028690</td>\n",
              "      <td>26.101443</td>\n",
              "      <td>38.379842</td>\n",
              "      <td>50.383849</td>\n",
              "      <td>25.008410</td>\n",
              "      <td>32.917597</td>\n",
              "      <td>63.815304</td>\n",
              "      <td>1.425634</td>\n",
              "    </tr>\n",
              "    <tr>\n",
              "      <th>min</th>\n",
              "      <td>24.413111</td>\n",
              "      <td>0.000000</td>\n",
              "      <td>24.698178</td>\n",
              "      <td>0.000000</td>\n",
              "      <td>0.000000</td>\n",
              "      <td>27.000000</td>\n",
              "      <td>0.000000</td>\n",
              "      <td>0.000000</td>\n",
              "    </tr>\n",
              "    <tr>\n",
              "      <th>25%</th>\n",
              "      <td>97.800818</td>\n",
              "      <td>43.174066</td>\n",
              "      <td>167.800477</td>\n",
              "      <td>143.265488</td>\n",
              "      <td>50.477718</td>\n",
              "      <td>97.514102</td>\n",
              "      <td>76.419893</td>\n",
              "      <td>1.000000</td>\n",
              "    </tr>\n",
              "    <tr>\n",
              "      <th>50%</th>\n",
              "      <td>107.703296</td>\n",
              "      <td>52.201533</td>\n",
              "      <td>180.846555</td>\n",
              "      <td>158.836394</td>\n",
              "      <td>59.396970</td>\n",
              "      <td>105.702412</td>\n",
              "      <td>105.309069</td>\n",
              "      <td>2.000000</td>\n",
              "    </tr>\n",
              "    <tr>\n",
              "      <th>75%</th>\n",
              "      <td>118.127050</td>\n",
              "      <td>64.007812</td>\n",
              "      <td>197.266317</td>\n",
              "      <td>174.908548</td>\n",
              "      <td>69.202601</td>\n",
              "      <td>115.247560</td>\n",
              "      <td>125.000000</td>\n",
              "      <td>3.000000</td>\n",
              "    </tr>\n",
              "    <tr>\n",
              "      <th>max</th>\n",
              "      <td>419.980952</td>\n",
              "      <td>383.301448</td>\n",
              "      <td>393.325565</td>\n",
              "      <td>535.471755</td>\n",
              "      <td>450.947891</td>\n",
              "      <td>440.090900</td>\n",
              "      <td>532.738210</td>\n",
              "      <td>4.000000</td>\n",
              "    </tr>\n",
              "  </tbody>\n",
              "</table>\n",
              "</div>"
            ],
            "text/plain": [
              "                  0             1  ...            6        Target\n",
              "count  11738.000000  11730.000000  ...  9935.000000  11744.000000\n",
              "mean     107.774664     57.797854  ...   109.660844      1.979053\n",
              "std       19.028690     26.101443  ...    63.815304      1.425634\n",
              "min       24.413111      0.000000  ...     0.000000      0.000000\n",
              "25%       97.800818     43.174066  ...    76.419893      1.000000\n",
              "50%      107.703296     52.201533  ...   105.309069      2.000000\n",
              "75%      118.127050     64.007812  ...   125.000000      3.000000\n",
              "max      419.980952    383.301448  ...   532.738210      4.000000\n",
              "\n",
              "[8 rows x 8 columns]"
            ]
          },
          "metadata": {
            "tags": []
          },
          "execution_count": 8
        }
      ]
    },
    {
      "cell_type": "code",
      "metadata": {
        "id": "4tkYlEUnGR1p",
        "colab_type": "code",
        "colab": {}
      },
      "source": [
        "data0=data[data['Target']==0]\n",
        "data0=data0.fillna(data0.mean())\n",
        "data1=data[data['Target']==1]\n",
        "data1=data1.fillna(data1.mean())\n",
        "data2=data[data['Target']==2]\n",
        "data2=data2.fillna(data2.mean())\n",
        "data3=data[data['Target']==3]\n",
        "data3=data3.fillna(data3.mean())\n",
        "data4=data[data['Target']==4]\n",
        "data4=data4.fillna(data4.mean())"
      ],
      "execution_count": 0,
      "outputs": []
    },
    {
      "cell_type": "code",
      "metadata": {
        "id": "LIIquL0kGfwV",
        "colab_type": "code",
        "colab": {}
      },
      "source": [
        "frames = [data0,data1, data2, data3,data4]\n",
        "res_data=pd.concat(frames)"
      ],
      "execution_count": 0,
      "outputs": []
    },
    {
      "cell_type": "code",
      "metadata": {
        "id": "MRwnLaHvGiE4",
        "colab_type": "code",
        "outputId": "ffa31ade-a267-419b-c899-1fdf647805ca",
        "colab": {
          "base_uri": "https://localhost:8080/",
          "height": 359
        }
      },
      "source": [
        "res_data.head(10)"
      ],
      "execution_count": 0,
      "outputs": [
        {
          "output_type": "execute_result",
          "data": {
            "text/html": [
              "<div>\n",
              "<style scoped>\n",
              "    .dataframe tbody tr th:only-of-type {\n",
              "        vertical-align: middle;\n",
              "    }\n",
              "\n",
              "    .dataframe tbody tr th {\n",
              "        vertical-align: top;\n",
              "    }\n",
              "\n",
              "    .dataframe thead th {\n",
              "        text-align: right;\n",
              "    }\n",
              "</style>\n",
              "<table border=\"1\" class=\"dataframe\">\n",
              "  <thead>\n",
              "    <tr style=\"text-align: right;\">\n",
              "      <th></th>\n",
              "      <th>0</th>\n",
              "      <th>1</th>\n",
              "      <th>2</th>\n",
              "      <th>3</th>\n",
              "      <th>4</th>\n",
              "      <th>5</th>\n",
              "      <th>6</th>\n",
              "      <th>Target</th>\n",
              "    </tr>\n",
              "  </thead>\n",
              "  <tbody>\n",
              "    <tr>\n",
              "      <th>4</th>\n",
              "      <td>98.081599</td>\n",
              "      <td>34.014703</td>\n",
              "      <td>161.595173</td>\n",
              "      <td>139.402296</td>\n",
              "      <td>42.520583</td>\n",
              "      <td>98.000000</td>\n",
              "      <td>105.702412</td>\n",
              "      <td>0</td>\n",
              "    </tr>\n",
              "    <tr>\n",
              "      <th>10</th>\n",
              "      <td>122.429572</td>\n",
              "      <td>59.396970</td>\n",
              "      <td>202.200396</td>\n",
              "      <td>163.376865</td>\n",
              "      <td>50.477718</td>\n",
              "      <td>94.175368</td>\n",
              "      <td>101.833197</td>\n",
              "      <td>0</td>\n",
              "    </tr>\n",
              "    <tr>\n",
              "      <th>18</th>\n",
              "      <td>136.565003</td>\n",
              "      <td>34.205263</td>\n",
              "      <td>133.689940</td>\n",
              "      <td>161.895028</td>\n",
              "      <td>43.174066</td>\n",
              "      <td>109.258744</td>\n",
              "      <td>124.394816</td>\n",
              "      <td>0</td>\n",
              "    </tr>\n",
              "    <tr>\n",
              "      <th>20</th>\n",
              "      <td>92.005435</td>\n",
              "      <td>93.021503</td>\n",
              "      <td>263.734715</td>\n",
              "      <td>203.953426</td>\n",
              "      <td>76.557168</td>\n",
              "      <td>115.247560</td>\n",
              "      <td>383.301448</td>\n",
              "      <td>0</td>\n",
              "    </tr>\n",
              "    <tr>\n",
              "      <th>22</th>\n",
              "      <td>128.097619</td>\n",
              "      <td>50.477718</td>\n",
              "      <td>182.258059</td>\n",
              "      <td>50.477718</td>\n",
              "      <td>111.543713</td>\n",
              "      <td>110.941426</td>\n",
              "      <td>124.394816</td>\n",
              "      <td>0</td>\n",
              "    </tr>\n",
              "    <tr>\n",
              "      <th>28</th>\n",
              "      <td>84.219950</td>\n",
              "      <td>46.957428</td>\n",
              "      <td>111.287915</td>\n",
              "      <td>238.159610</td>\n",
              "      <td>46.957428</td>\n",
              "      <td>100.448992</td>\n",
              "      <td>181.000000</td>\n",
              "      <td>0</td>\n",
              "    </tr>\n",
              "    <tr>\n",
              "      <th>29</th>\n",
              "      <td>93.914855</td>\n",
              "      <td>34.014703</td>\n",
              "      <td>158.660014</td>\n",
              "      <td>139.402296</td>\n",
              "      <td>59.059292</td>\n",
              "      <td>98.508883</td>\n",
              "      <td>110.059075</td>\n",
              "      <td>0</td>\n",
              "    </tr>\n",
              "    <tr>\n",
              "      <th>32</th>\n",
              "      <td>114.856432</td>\n",
              "      <td>68.541958</td>\n",
              "      <td>182.258059</td>\n",
              "      <td>161.895028</td>\n",
              "      <td>58.694122</td>\n",
              "      <td>98.615415</td>\n",
              "      <td>118.680243</td>\n",
              "      <td>0</td>\n",
              "    </tr>\n",
              "    <tr>\n",
              "      <th>36</th>\n",
              "      <td>104.938077</td>\n",
              "      <td>67.007462</td>\n",
              "      <td>203.666394</td>\n",
              "      <td>168.629772</td>\n",
              "      <td>76.419893</td>\n",
              "      <td>99.247166</td>\n",
              "      <td>110.941426</td>\n",
              "      <td>0</td>\n",
              "    </tr>\n",
              "    <tr>\n",
              "      <th>39</th>\n",
              "      <td>127.910125</td>\n",
              "      <td>46.518813</td>\n",
              "      <td>180.405100</td>\n",
              "      <td>174.908548</td>\n",
              "      <td>59.808026</td>\n",
              "      <td>83.600239</td>\n",
              "      <td>98.000000</td>\n",
              "      <td>0</td>\n",
              "    </tr>\n",
              "  </tbody>\n",
              "</table>\n",
              "</div>"
            ],
            "text/plain": [
              "             0          1           2  ...           5           6  Target\n",
              "4    98.081599  34.014703  161.595173  ...   98.000000  105.702412       0\n",
              "10  122.429572  59.396970  202.200396  ...   94.175368  101.833197       0\n",
              "18  136.565003  34.205263  133.689940  ...  109.258744  124.394816       0\n",
              "20   92.005435  93.021503  263.734715  ...  115.247560  383.301448       0\n",
              "22  128.097619  50.477718  182.258059  ...  110.941426  124.394816       0\n",
              "28   84.219950  46.957428  111.287915  ...  100.448992  181.000000       0\n",
              "29   93.914855  34.014703  158.660014  ...   98.508883  110.059075       0\n",
              "32  114.856432  68.541958  182.258059  ...   98.615415  118.680243       0\n",
              "36  104.938077  67.007462  203.666394  ...   99.247166  110.941426       0\n",
              "39  127.910125  46.518813  180.405100  ...   83.600239   98.000000       0\n",
              "\n",
              "[10 rows x 8 columns]"
            ]
          },
          "metadata": {
            "tags": []
          },
          "execution_count": 11
        }
      ]
    },
    {
      "cell_type": "code",
      "metadata": {
        "id": "N5zu_UshHn-X",
        "colab_type": "code",
        "outputId": "364a9881-97f2-48b0-f09b-eac72cb8df56",
        "colab": {
          "base_uri": "https://localhost:8080/",
          "height": 297
        }
      },
      "source": [
        "res_data.describe()"
      ],
      "execution_count": 0,
      "outputs": [
        {
          "output_type": "execute_result",
          "data": {
            "text/html": [
              "<div>\n",
              "<style scoped>\n",
              "    .dataframe tbody tr th:only-of-type {\n",
              "        vertical-align: middle;\n",
              "    }\n",
              "\n",
              "    .dataframe tbody tr th {\n",
              "        vertical-align: top;\n",
              "    }\n",
              "\n",
              "    .dataframe thead th {\n",
              "        text-align: right;\n",
              "    }\n",
              "</style>\n",
              "<table border=\"1\" class=\"dataframe\">\n",
              "  <thead>\n",
              "    <tr style=\"text-align: right;\">\n",
              "      <th></th>\n",
              "      <th>0</th>\n",
              "      <th>1</th>\n",
              "      <th>2</th>\n",
              "      <th>3</th>\n",
              "      <th>4</th>\n",
              "      <th>5</th>\n",
              "      <th>6</th>\n",
              "      <th>Target</th>\n",
              "    </tr>\n",
              "  </thead>\n",
              "  <tbody>\n",
              "    <tr>\n",
              "      <th>count</th>\n",
              "      <td>11744.000000</td>\n",
              "      <td>11744.000000</td>\n",
              "      <td>11744.000000</td>\n",
              "      <td>11744.000000</td>\n",
              "      <td>11744.000000</td>\n",
              "      <td>11744.000000</td>\n",
              "      <td>11744.000000</td>\n",
              "      <td>11744.000000</td>\n",
              "    </tr>\n",
              "    <tr>\n",
              "      <th>mean</th>\n",
              "      <td>107.775928</td>\n",
              "      <td>57.803599</td>\n",
              "      <td>182.207350</td>\n",
              "      <td>165.333460</td>\n",
              "      <td>62.393961</td>\n",
              "      <td>110.350278</td>\n",
              "      <td>109.406574</td>\n",
              "      <td>1.979053</td>\n",
              "    </tr>\n",
              "    <tr>\n",
              "      <th>std</th>\n",
              "      <td>19.023999</td>\n",
              "      <td>26.088814</td>\n",
              "      <td>38.247013</td>\n",
              "      <td>50.119570</td>\n",
              "      <td>24.728502</td>\n",
              "      <td>30.726710</td>\n",
              "      <td>59.428287</td>\n",
              "      <td>1.425634</td>\n",
              "    </tr>\n",
              "    <tr>\n",
              "      <th>min</th>\n",
              "      <td>24.413111</td>\n",
              "      <td>0.000000</td>\n",
              "      <td>24.698178</td>\n",
              "      <td>0.000000</td>\n",
              "      <td>0.000000</td>\n",
              "      <td>27.000000</td>\n",
              "      <td>0.000000</td>\n",
              "      <td>0.000000</td>\n",
              "    </tr>\n",
              "    <tr>\n",
              "      <th>25%</th>\n",
              "      <td>97.800818</td>\n",
              "      <td>43.174066</td>\n",
              "      <td>167.800477</td>\n",
              "      <td>144.754965</td>\n",
              "      <td>50.477718</td>\n",
              "      <td>97.621719</td>\n",
              "      <td>76.419893</td>\n",
              "      <td>1.000000</td>\n",
              "    </tr>\n",
              "    <tr>\n",
              "      <th>50%</th>\n",
              "      <td>107.703296</td>\n",
              "      <td>52.201533</td>\n",
              "      <td>180.618367</td>\n",
              "      <td>159.113167</td>\n",
              "      <td>59.396970</td>\n",
              "      <td>107.601983</td>\n",
              "      <td>105.702412</td>\n",
              "      <td>2.000000</td>\n",
              "    </tr>\n",
              "    <tr>\n",
              "      <th>75%</th>\n",
              "      <td>118.127050</td>\n",
              "      <td>64.007812</td>\n",
              "      <td>196.735864</td>\n",
              "      <td>174.908548</td>\n",
              "      <td>69.202601</td>\n",
              "      <td>114.253725</td>\n",
              "      <td>125.612184</td>\n",
              "      <td>3.000000</td>\n",
              "    </tr>\n",
              "    <tr>\n",
              "      <th>max</th>\n",
              "      <td>419.980952</td>\n",
              "      <td>383.301448</td>\n",
              "      <td>393.325565</td>\n",
              "      <td>535.471755</td>\n",
              "      <td>450.947891</td>\n",
              "      <td>440.090900</td>\n",
              "      <td>532.738210</td>\n",
              "      <td>4.000000</td>\n",
              "    </tr>\n",
              "  </tbody>\n",
              "</table>\n",
              "</div>"
            ],
            "text/plain": [
              "                  0             1  ...             6        Target\n",
              "count  11744.000000  11744.000000  ...  11744.000000  11744.000000\n",
              "mean     107.775928     57.803599  ...    109.406574      1.979053\n",
              "std       19.023999     26.088814  ...     59.428287      1.425634\n",
              "min       24.413111      0.000000  ...      0.000000      0.000000\n",
              "25%       97.800818     43.174066  ...     76.419893      1.000000\n",
              "50%      107.703296     52.201533  ...    105.702412      2.000000\n",
              "75%      118.127050     64.007812  ...    125.612184      3.000000\n",
              "max      419.980952    383.301448  ...    532.738210      4.000000\n",
              "\n",
              "[8 rows x 8 columns]"
            ]
          },
          "metadata": {
            "tags": []
          },
          "execution_count": 12
        }
      ]
    },
    {
      "cell_type": "code",
      "metadata": {
        "id": "S27n0C8pHuYN",
        "colab_type": "code",
        "colab": {}
      },
      "source": [
        "data=res_data.sort_index()"
      ],
      "execution_count": 0,
      "outputs": []
    },
    {
      "cell_type": "code",
      "metadata": {
        "id": "iv_FBWFMIMQ-",
        "colab_type": "code",
        "outputId": "ccad592a-ad3a-4e9c-9a4b-76f261df1189",
        "colab": {
          "base_uri": "https://localhost:8080/",
          "height": 204
        }
      },
      "source": [
        "data.head()"
      ],
      "execution_count": 0,
      "outputs": [
        {
          "output_type": "execute_result",
          "data": {
            "text/html": [
              "<div>\n",
              "<style scoped>\n",
              "    .dataframe tbody tr th:only-of-type {\n",
              "        vertical-align: middle;\n",
              "    }\n",
              "\n",
              "    .dataframe tbody tr th {\n",
              "        vertical-align: top;\n",
              "    }\n",
              "\n",
              "    .dataframe thead th {\n",
              "        text-align: right;\n",
              "    }\n",
              "</style>\n",
              "<table border=\"1\" class=\"dataframe\">\n",
              "  <thead>\n",
              "    <tr style=\"text-align: right;\">\n",
              "      <th></th>\n",
              "      <th>0</th>\n",
              "      <th>1</th>\n",
              "      <th>2</th>\n",
              "      <th>3</th>\n",
              "      <th>4</th>\n",
              "      <th>5</th>\n",
              "      <th>6</th>\n",
              "      <th>Target</th>\n",
              "    </tr>\n",
              "  </thead>\n",
              "  <tbody>\n",
              "    <tr>\n",
              "      <th>0</th>\n",
              "      <td>100.955436</td>\n",
              "      <td>16.401219</td>\n",
              "      <td>180.405100</td>\n",
              "      <td>131.867358</td>\n",
              "      <td>30.083218</td>\n",
              "      <td>94.175368</td>\n",
              "      <td>93.914855</td>\n",
              "      <td>4</td>\n",
              "    </tr>\n",
              "    <tr>\n",
              "      <th>1</th>\n",
              "      <td>107.703296</td>\n",
              "      <td>41.109610</td>\n",
              "      <td>208.600096</td>\n",
              "      <td>150.046659</td>\n",
              "      <td>52.201533</td>\n",
              "      <td>110.941426</td>\n",
              "      <td>84.291162</td>\n",
              "      <td>4</td>\n",
              "    </tr>\n",
              "    <tr>\n",
              "      <th>2</th>\n",
              "      <td>128.316016</td>\n",
              "      <td>31.000000</td>\n",
              "      <td>166.234774</td>\n",
              "      <td>143.265488</td>\n",
              "      <td>64.498062</td>\n",
              "      <td>114.670444</td>\n",
              "      <td>125.612184</td>\n",
              "      <td>1</td>\n",
              "    </tr>\n",
              "    <tr>\n",
              "      <th>3</th>\n",
              "      <td>118.118584</td>\n",
              "      <td>28.792360</td>\n",
              "      <td>210.622886</td>\n",
              "      <td>187.608635</td>\n",
              "      <td>76.557168</td>\n",
              "      <td>114.670444</td>\n",
              "      <td>125.612184</td>\n",
              "      <td>1</td>\n",
              "    </tr>\n",
              "    <tr>\n",
              "      <th>4</th>\n",
              "      <td>98.081599</td>\n",
              "      <td>34.014703</td>\n",
              "      <td>161.595173</td>\n",
              "      <td>139.402296</td>\n",
              "      <td>42.520583</td>\n",
              "      <td>98.000000</td>\n",
              "      <td>105.702412</td>\n",
              "      <td>0</td>\n",
              "    </tr>\n",
              "  </tbody>\n",
              "</table>\n",
              "</div>"
            ],
            "text/plain": [
              "            0          1           2  ...           5           6  Target\n",
              "0  100.955436  16.401219  180.405100  ...   94.175368   93.914855       4\n",
              "1  107.703296  41.109610  208.600096  ...  110.941426   84.291162       4\n",
              "2  128.316016  31.000000  166.234774  ...  114.670444  125.612184       1\n",
              "3  118.118584  28.792360  210.622886  ...  114.670444  125.612184       1\n",
              "4   98.081599  34.014703  161.595173  ...   98.000000  105.702412       0\n",
              "\n",
              "[5 rows x 8 columns]"
            ]
          },
          "metadata": {
            "tags": []
          },
          "execution_count": 14
        }
      ]
    },
    {
      "cell_type": "code",
      "metadata": {
        "id": "jqBAvh6eIOW0",
        "colab_type": "code",
        "outputId": "f55e1600-5389-49fc-c547-1c39751b59f7",
        "colab": {
          "base_uri": "https://localhost:8080/",
          "height": 297
        }
      },
      "source": [
        "data.describe()"
      ],
      "execution_count": 0,
      "outputs": [
        {
          "output_type": "execute_result",
          "data": {
            "text/html": [
              "<div>\n",
              "<style scoped>\n",
              "    .dataframe tbody tr th:only-of-type {\n",
              "        vertical-align: middle;\n",
              "    }\n",
              "\n",
              "    .dataframe tbody tr th {\n",
              "        vertical-align: top;\n",
              "    }\n",
              "\n",
              "    .dataframe thead th {\n",
              "        text-align: right;\n",
              "    }\n",
              "</style>\n",
              "<table border=\"1\" class=\"dataframe\">\n",
              "  <thead>\n",
              "    <tr style=\"text-align: right;\">\n",
              "      <th></th>\n",
              "      <th>0</th>\n",
              "      <th>1</th>\n",
              "      <th>2</th>\n",
              "      <th>3</th>\n",
              "      <th>4</th>\n",
              "      <th>5</th>\n",
              "      <th>6</th>\n",
              "      <th>Target</th>\n",
              "    </tr>\n",
              "  </thead>\n",
              "  <tbody>\n",
              "    <tr>\n",
              "      <th>count</th>\n",
              "      <td>11744.000000</td>\n",
              "      <td>11744.000000</td>\n",
              "      <td>11744.000000</td>\n",
              "      <td>11744.000000</td>\n",
              "      <td>11744.000000</td>\n",
              "      <td>11744.000000</td>\n",
              "      <td>11744.000000</td>\n",
              "      <td>11744.000000</td>\n",
              "    </tr>\n",
              "    <tr>\n",
              "      <th>mean</th>\n",
              "      <td>107.775928</td>\n",
              "      <td>57.803599</td>\n",
              "      <td>182.207350</td>\n",
              "      <td>165.333460</td>\n",
              "      <td>62.393961</td>\n",
              "      <td>110.350278</td>\n",
              "      <td>109.406574</td>\n",
              "      <td>1.979053</td>\n",
              "    </tr>\n",
              "    <tr>\n",
              "      <th>std</th>\n",
              "      <td>19.023999</td>\n",
              "      <td>26.088814</td>\n",
              "      <td>38.247013</td>\n",
              "      <td>50.119570</td>\n",
              "      <td>24.728502</td>\n",
              "      <td>30.726710</td>\n",
              "      <td>59.428287</td>\n",
              "      <td>1.425634</td>\n",
              "    </tr>\n",
              "    <tr>\n",
              "      <th>min</th>\n",
              "      <td>24.413111</td>\n",
              "      <td>0.000000</td>\n",
              "      <td>24.698178</td>\n",
              "      <td>0.000000</td>\n",
              "      <td>0.000000</td>\n",
              "      <td>27.000000</td>\n",
              "      <td>0.000000</td>\n",
              "      <td>0.000000</td>\n",
              "    </tr>\n",
              "    <tr>\n",
              "      <th>25%</th>\n",
              "      <td>97.800818</td>\n",
              "      <td>43.174066</td>\n",
              "      <td>167.800477</td>\n",
              "      <td>144.754965</td>\n",
              "      <td>50.477718</td>\n",
              "      <td>97.621719</td>\n",
              "      <td>76.419893</td>\n",
              "      <td>1.000000</td>\n",
              "    </tr>\n",
              "    <tr>\n",
              "      <th>50%</th>\n",
              "      <td>107.703296</td>\n",
              "      <td>52.201533</td>\n",
              "      <td>180.618367</td>\n",
              "      <td>159.113167</td>\n",
              "      <td>59.396970</td>\n",
              "      <td>107.601983</td>\n",
              "      <td>105.702412</td>\n",
              "      <td>2.000000</td>\n",
              "    </tr>\n",
              "    <tr>\n",
              "      <th>75%</th>\n",
              "      <td>118.127050</td>\n",
              "      <td>64.007812</td>\n",
              "      <td>196.735864</td>\n",
              "      <td>174.908548</td>\n",
              "      <td>69.202601</td>\n",
              "      <td>114.253725</td>\n",
              "      <td>125.612184</td>\n",
              "      <td>3.000000</td>\n",
              "    </tr>\n",
              "    <tr>\n",
              "      <th>max</th>\n",
              "      <td>419.980952</td>\n",
              "      <td>383.301448</td>\n",
              "      <td>393.325565</td>\n",
              "      <td>535.471755</td>\n",
              "      <td>450.947891</td>\n",
              "      <td>440.090900</td>\n",
              "      <td>532.738210</td>\n",
              "      <td>4.000000</td>\n",
              "    </tr>\n",
              "  </tbody>\n",
              "</table>\n",
              "</div>"
            ],
            "text/plain": [
              "                  0             1  ...             6        Target\n",
              "count  11744.000000  11744.000000  ...  11744.000000  11744.000000\n",
              "mean     107.775928     57.803599  ...    109.406574      1.979053\n",
              "std       19.023999     26.088814  ...     59.428287      1.425634\n",
              "min       24.413111      0.000000  ...      0.000000      0.000000\n",
              "25%       97.800818     43.174066  ...     76.419893      1.000000\n",
              "50%      107.703296     52.201533  ...    105.702412      2.000000\n",
              "75%      118.127050     64.007812  ...    125.612184      3.000000\n",
              "max      419.980952    383.301448  ...    532.738210      4.000000\n",
              "\n",
              "[8 rows x 8 columns]"
            ]
          },
          "metadata": {
            "tags": []
          },
          "execution_count": 15
        }
      ]
    },
    {
      "cell_type": "code",
      "metadata": {
        "id": "yRcj8OxdIR8o",
        "colab_type": "code",
        "colab": {}
      },
      "source": [
        "target=data['Target']\n",
        "features=data.drop(['Target'],axis=1).copy()"
      ],
      "execution_count": 0,
      "outputs": []
    },
    {
      "cell_type": "code",
      "metadata": {
        "id": "ELMeYhC1InWk",
        "colab_type": "code",
        "outputId": "b78b366c-0190-4958-ac4f-0dd05121e6fc",
        "colab": {
          "base_uri": "https://localhost:8080/",
          "height": 85
        }
      },
      "source": [
        "X_train,X_test,Y_train,Y_test=train_test_split(features,target,test_size=0.2)\n",
        "\n",
        "print(X_train.shape,\"\\t\",X_test.shape)\n",
        "print(Y_train.shape,\"\\t\",Y_test.shape)\n",
        "\n",
        "x_train,x_val,y_train,y_val=train_test_split(X_train,Y_train,test_size=0.25)\n",
        "\n",
        "print(x_train.shape,\"\\t\",x_val.shape)\n",
        "print(y_train.shape,\"\\t\",y_val.shape)"
      ],
      "execution_count": 0,
      "outputs": [
        {
          "output_type": "stream",
          "text": [
            "(9395, 7) \t (2349, 7)\n",
            "(9395,) \t (2349,)\n",
            "(7046, 7) \t (2349, 7)\n",
            "(7046,) \t (2349,)\n"
          ],
          "name": "stdout"
        }
      ]
    },
    {
      "cell_type": "code",
      "metadata": {
        "id": "dGoQAs5bMQuO",
        "colab_type": "code",
        "colab": {}
      },
      "source": [
        "#Now we are going to perform one_hot encoding using keras\n",
        "from keras.utils import to_categorical\n",
        "train_Y_onehot=to_categorical(y_train)\n",
        "test_Y_onehot=to_categorical(Y_test)\n",
        "val_y_onehot=to_categorical(y_val)"
      ],
      "execution_count": 0,
      "outputs": []
    },
    {
      "cell_type": "code",
      "metadata": {
        "id": "pA95ilbFI6k9",
        "colab_type": "code",
        "colab": {}
      },
      "source": [
        "model=Sequential()"
      ],
      "execution_count": 0,
      "outputs": []
    },
    {
      "cell_type": "code",
      "metadata": {
        "id": "vci5qiwDJXUF",
        "colab_type": "code",
        "colab": {}
      },
      "source": [
        "model.add(Dense(32,activation='relu',input_shape=(7,)))\n",
        "model.add(Dense(64,activation='relu'))\n",
        "model.add(Dense(128,activation='relu'))\n",
        "model.add(Dense(256,activation='relu'))\n",
        "model.add(Dense(512,activation='relu'))\n",
        "model.add(Dense(256,activation='relu'))\n",
        "model.add(Dense(128,activation='relu'))\n",
        "model.add(Dense(64,activation='relu'))\n",
        "model.add(Dense(32,activation='relu'))\n",
        "model.add(Dense(5,activation='softmax'))"
      ],
      "execution_count": 0,
      "outputs": []
    },
    {
      "cell_type": "code",
      "metadata": {
        "id": "ducDg3FiKncb",
        "colab_type": "code",
        "colab": {}
      },
      "source": [
        "model.compile(loss='categorical_crossentropy', optimizer='adam',metrics=['accuracy'])"
      ],
      "execution_count": 0,
      "outputs": []
    },
    {
      "cell_type": "code",
      "metadata": {
        "id": "q27Ds60-Kr1s",
        "colab_type": "code",
        "outputId": "926cc490-8b3b-4520-c0be-46b5c804582d",
        "colab": {
          "base_uri": "https://localhost:8080/",
          "height": 493
        }
      },
      "source": [
        "model.summary()"
      ],
      "execution_count": 0,
      "outputs": [
        {
          "output_type": "stream",
          "text": [
            "Model: \"sequential_11\"\n",
            "_________________________________________________________________\n",
            "Layer (type)                 Output Shape              Param #   \n",
            "=================================================================\n",
            "dense_98 (Dense)             (None, 32)                256       \n",
            "_________________________________________________________________\n",
            "dense_99 (Dense)             (None, 64)                2112      \n",
            "_________________________________________________________________\n",
            "dense_100 (Dense)            (None, 128)               8320      \n",
            "_________________________________________________________________\n",
            "dense_101 (Dense)            (None, 256)               33024     \n",
            "_________________________________________________________________\n",
            "dense_102 (Dense)            (None, 512)               131584    \n",
            "_________________________________________________________________\n",
            "dense_103 (Dense)            (None, 256)               131328    \n",
            "_________________________________________________________________\n",
            "dense_104 (Dense)            (None, 128)               32896     \n",
            "_________________________________________________________________\n",
            "dense_105 (Dense)            (None, 64)                8256      \n",
            "_________________________________________________________________\n",
            "dense_106 (Dense)            (None, 32)                2080      \n",
            "_________________________________________________________________\n",
            "dense_107 (Dense)            (None, 5)                 165       \n",
            "=================================================================\n",
            "Total params: 350,021\n",
            "Trainable params: 350,021\n",
            "Non-trainable params: 0\n",
            "_________________________________________________________________\n"
          ],
          "name": "stdout"
        }
      ]
    },
    {
      "cell_type": "code",
      "metadata": {
        "id": "NnjTnpN3K4iS",
        "colab_type": "code",
        "outputId": "4b3ec8e3-7f59-4f2d-d127-a8f6796864c6",
        "colab": {
          "base_uri": "https://localhost:8080/",
          "height": 1000
        }
      },
      "source": [
        "model_train = model.fit(x_train, train_Y_onehot, batch_size=10,epochs=50,verbose=1,validation_data=(x_val, val_y_onehot))"
      ],
      "execution_count": 0,
      "outputs": [
        {
          "output_type": "stream",
          "text": [
            "Train on 7046 samples, validate on 2349 samples\n",
            "Epoch 1/50\n",
            "7046/7046 [==============================] - 9s 1ms/step - loss: 1.2467 - acc: 0.4493 - val_loss: 1.0894 - val_acc: 0.5321\n",
            "Epoch 2/50\n",
            "7046/7046 [==============================] - 7s 953us/step - loss: 1.0933 - acc: 0.5142 - val_loss: 1.1419 - val_acc: 0.4764\n",
            "Epoch 3/50\n",
            "7046/7046 [==============================] - 7s 945us/step - loss: 1.0478 - acc: 0.5348 - val_loss: 1.0272 - val_acc: 0.5577\n",
            "Epoch 4/50\n",
            "7046/7046 [==============================] - 7s 948us/step - loss: 0.9988 - acc: 0.5554 - val_loss: 1.0090 - val_acc: 0.5590\n",
            "Epoch 5/50\n",
            "7046/7046 [==============================] - 7s 944us/step - loss: 0.9787 - acc: 0.5701 - val_loss: 1.0185 - val_acc: 0.5547\n",
            "Epoch 6/50\n",
            "7046/7046 [==============================] - 7s 947us/step - loss: 0.9493 - acc: 0.5861 - val_loss: 0.9612 - val_acc: 0.5849\n",
            "Epoch 7/50\n",
            "7046/7046 [==============================] - 7s 950us/step - loss: 0.9310 - acc: 0.5921 - val_loss: 1.0428 - val_acc: 0.5475\n",
            "Epoch 8/50\n",
            "7046/7046 [==============================] - 7s 949us/step - loss: 0.9224 - acc: 0.5988 - val_loss: 0.9682 - val_acc: 0.5845\n",
            "Epoch 9/50\n",
            "7046/7046 [==============================] - 7s 951us/step - loss: 0.8871 - acc: 0.6174 - val_loss: 0.9794 - val_acc: 0.5981\n",
            "Epoch 10/50\n",
            "7046/7046 [==============================] - 7s 947us/step - loss: 0.8625 - acc: 0.6331 - val_loss: 0.9214 - val_acc: 0.6198\n",
            "Epoch 11/50\n",
            "7046/7046 [==============================] - 7s 951us/step - loss: 0.8464 - acc: 0.6418 - val_loss: 0.9250 - val_acc: 0.6224\n",
            "Epoch 12/50\n",
            "7046/7046 [==============================] - 7s 952us/step - loss: 0.8363 - acc: 0.6466 - val_loss: 0.9493 - val_acc: 0.6032\n",
            "Epoch 13/50\n",
            "7046/7046 [==============================] - 7s 945us/step - loss: 0.8248 - acc: 0.6516 - val_loss: 0.8707 - val_acc: 0.6398\n",
            "Epoch 14/50\n",
            "7046/7046 [==============================] - 7s 945us/step - loss: 0.8029 - acc: 0.6628 - val_loss: 0.8803 - val_acc: 0.6390\n",
            "Epoch 15/50\n",
            "7046/7046 [==============================] - 7s 945us/step - loss: 0.7981 - acc: 0.6696 - val_loss: 0.8873 - val_acc: 0.6330\n",
            "Epoch 16/50\n",
            "7046/7046 [==============================] - 7s 952us/step - loss: 0.7865 - acc: 0.6737 - val_loss: 0.9248 - val_acc: 0.6177\n",
            "Epoch 17/50\n",
            "7046/7046 [==============================] - 7s 941us/step - loss: 0.7627 - acc: 0.6832 - val_loss: 0.8767 - val_acc: 0.6484\n",
            "Epoch 18/50\n",
            "7046/7046 [==============================] - 7s 951us/step - loss: 0.7431 - acc: 0.6929 - val_loss: 0.8695 - val_acc: 0.6501\n",
            "Epoch 19/50\n",
            "7046/7046 [==============================] - 7s 936us/step - loss: 0.7381 - acc: 0.6906 - val_loss: 0.8576 - val_acc: 0.6577\n",
            "Epoch 20/50\n",
            "7046/7046 [==============================] - 7s 962us/step - loss: 0.7417 - acc: 0.6932 - val_loss: 0.8882 - val_acc: 0.6607\n",
            "Epoch 21/50\n",
            "7046/7046 [==============================] - 7s 955us/step - loss: 0.7138 - acc: 0.7042 - val_loss: 0.9088 - val_acc: 0.6403\n",
            "Epoch 22/50\n",
            "7046/7046 [==============================] - 7s 944us/step - loss: 0.7061 - acc: 0.7076 - val_loss: 0.8013 - val_acc: 0.6918\n",
            "Epoch 23/50\n",
            "7046/7046 [==============================] - 7s 938us/step - loss: 0.6956 - acc: 0.7122 - val_loss: 0.8357 - val_acc: 0.6769\n",
            "Epoch 24/50\n",
            "7046/7046 [==============================] - 7s 945us/step - loss: 0.6898 - acc: 0.7126 - val_loss: 0.9752 - val_acc: 0.6739\n",
            "Epoch 25/50\n",
            "7046/7046 [==============================] - 7s 948us/step - loss: 0.7049 - acc: 0.7197 - val_loss: 0.8386 - val_acc: 0.6769\n",
            "Epoch 26/50\n",
            "7046/7046 [==============================] - 7s 939us/step - loss: 0.6551 - acc: 0.7301 - val_loss: 0.9066 - val_acc: 0.6611\n",
            "Epoch 27/50\n",
            "7046/7046 [==============================] - 7s 936us/step - loss: 0.6616 - acc: 0.7271 - val_loss: 0.7941 - val_acc: 0.6969\n",
            "Epoch 28/50\n",
            "7046/7046 [==============================] - 7s 942us/step - loss: 0.6383 - acc: 0.7330 - val_loss: 0.8739 - val_acc: 0.6875\n",
            "Epoch 29/50\n",
            "7046/7046 [==============================] - 7s 935us/step - loss: 0.6408 - acc: 0.7342 - val_loss: 0.9357 - val_acc: 0.6607\n",
            "Epoch 30/50\n",
            "7046/7046 [==============================] - 7s 946us/step - loss: 0.6305 - acc: 0.7373 - val_loss: 0.8654 - val_acc: 0.6948\n",
            "Epoch 31/50\n",
            "7046/7046 [==============================] - 7s 938us/step - loss: 0.6426 - acc: 0.7367 - val_loss: 0.7911 - val_acc: 0.7114\n",
            "Epoch 32/50\n",
            "7046/7046 [==============================] - 7s 938us/step - loss: 0.6169 - acc: 0.7472 - val_loss: 0.8020 - val_acc: 0.6841\n",
            "Epoch 33/50\n",
            "7046/7046 [==============================] - 7s 935us/step - loss: 0.6195 - acc: 0.7458 - val_loss: 0.7747 - val_acc: 0.7135\n",
            "Epoch 34/50\n",
            "7046/7046 [==============================] - 7s 932us/step - loss: 0.5991 - acc: 0.7492 - val_loss: 0.8131 - val_acc: 0.7071\n",
            "Epoch 35/50\n",
            "7046/7046 [==============================] - 7s 939us/step - loss: 0.6044 - acc: 0.7526 - val_loss: 0.8180 - val_acc: 0.6994\n",
            "Epoch 36/50\n",
            "7046/7046 [==============================] - 7s 942us/step - loss: 0.6038 - acc: 0.7532 - val_loss: 0.8465 - val_acc: 0.6765\n",
            "Epoch 37/50\n",
            "7046/7046 [==============================] - 7s 947us/step - loss: 0.6010 - acc: 0.7572 - val_loss: 0.8040 - val_acc: 0.6977\n",
            "Epoch 38/50\n",
            "7046/7046 [==============================] - 7s 933us/step - loss: 0.5902 - acc: 0.7584 - val_loss: 0.9278 - val_acc: 0.6850\n",
            "Epoch 39/50\n",
            "7046/7046 [==============================] - 7s 941us/step - loss: 0.5616 - acc: 0.7638 - val_loss: 0.8557 - val_acc: 0.6999\n",
            "Epoch 40/50\n",
            "7046/7046 [==============================] - 7s 965us/step - loss: 0.5767 - acc: 0.7604 - val_loss: 0.8639 - val_acc: 0.6935\n",
            "Epoch 41/50\n",
            "7046/7046 [==============================] - 7s 953us/step - loss: 0.5597 - acc: 0.7697 - val_loss: 0.9293 - val_acc: 0.6760\n",
            "Epoch 42/50\n",
            "7046/7046 [==============================] - 7s 944us/step - loss: 0.5637 - acc: 0.7712 - val_loss: 0.8413 - val_acc: 0.6914\n",
            "Epoch 43/50\n",
            "7046/7046 [==============================] - 7s 936us/step - loss: 0.5614 - acc: 0.7756 - val_loss: 0.8040 - val_acc: 0.7131\n",
            "Epoch 44/50\n",
            "7046/7046 [==============================] - 7s 954us/step - loss: 0.5433 - acc: 0.7715 - val_loss: 0.9875 - val_acc: 0.6599\n",
            "Epoch 45/50\n",
            "7046/7046 [==============================] - 7s 947us/step - loss: 0.5436 - acc: 0.7763 - val_loss: 0.8178 - val_acc: 0.7101\n",
            "Epoch 46/50\n",
            "7046/7046 [==============================] - 7s 939us/step - loss: 0.5339 - acc: 0.7817 - val_loss: 0.8200 - val_acc: 0.6986\n",
            "Epoch 47/50\n",
            "7046/7046 [==============================] - 7s 938us/step - loss: 0.5392 - acc: 0.7777 - val_loss: 0.9088 - val_acc: 0.6952\n",
            "Epoch 48/50\n",
            "7046/7046 [==============================] - 7s 939us/step - loss: 0.5308 - acc: 0.7867 - val_loss: 0.8915 - val_acc: 0.6807\n",
            "Epoch 49/50\n",
            "7046/7046 [==============================] - 7s 934us/step - loss: 0.5083 - acc: 0.7955 - val_loss: 0.9123 - val_acc: 0.6807\n",
            "Epoch 50/50\n",
            "7046/7046 [==============================] - 7s 946us/step - loss: 0.5135 - acc: 0.7905 - val_loss: 0.8483 - val_acc: 0.7237\n"
          ],
          "name": "stdout"
        }
      ]
    },
    {
      "cell_type": "code",
      "metadata": {
        "id": "pm-Rp4RELeBs",
        "colab_type": "code",
        "outputId": "ce8cd5a9-8c39-4dd6-dce2-127522f59f23",
        "colab": {
          "base_uri": "https://localhost:8080/",
          "height": 286
        }
      },
      "source": [
        "\n",
        "#let's visualize this outcomes\n",
        "accuracy = model_train.history['acc']\n",
        "val_accuracy = model_train.history['val_acc']\n",
        "epochs = range(len(accuracy))\n",
        "plt.plot(epochs, accuracy, 'bo', label='Training accuracy')\n",
        "plt.plot(epochs, val_accuracy, 'b', label='Validation accuracy')"
      ],
      "execution_count": 0,
      "outputs": [
        {
          "output_type": "execute_result",
          "data": {
            "text/plain": [
              "[<matplotlib.lines.Line2D at 0x7f0cc829c940>]"
            ]
          },
          "metadata": {
            "tags": []
          },
          "execution_count": 89
        },
        {
          "output_type": "display_data",
          "data": {
            "image/png": "[encoded data removed]",
            "text/plain": [
              "<Figure size 432x288 with 1 Axes>"
            ]
          },
          "metadata": {
            "tags": []
          }
        }
      ]
    },
    {
      "cell_type": "code",
      "metadata": {
        "id": "ZKU30T9gQcKm",
        "colab_type": "code",
        "colab": {}
      },
      "source": [
        ""
      ],
      "execution_count": 0,
      "outputs": []
    }
  ]
}